{
 "cells": [
  {
   "cell_type": "code",
   "execution_count": null,
   "id": "808dc75a",
   "metadata": {},
   "outputs": [],
   "source": []
  },
  {
   "cell_type": "markdown",
   "id": "6c4c64c7",
   "metadata": {},
   "source": [
    "# Task 1.Calculator\n",
    "NEW = True\n",
    "\n",
    "while NEW == True:\n",
    "    print(\"1.Add\")\n",
    "    print(\"2.Subtract\")\n",
    "    print(\"3.Multiply\")\n",
    "    print(\"4.Divide\")\n",
    "    print(\"5.Power\")\n",
    "    print(\"\")\n",
    "    print(\"Enter a operation from 1-5\")\n",
    "    OP = int(input())\n",
    "\n",
    "    if OP == 1:\n",
    "        X = int(input(\"Enter a number\"))\n",
    "        Y = int(input(\"enter a number\"))\n",
    "        print(X + Y);\n",
    "    elif OP == 2:\n",
    "        X = int(input(\"Enter first number\"))\n",
    "        Y = int(input(\"enter second number\"))\n",
    "        print(X - Y);\n",
    "    elif OP == 3:\n",
    "        X = int(input(\"Enter first number\"))\n",
    "        Y = int(input(\"enter second number\"))\n",
    "        print(X * Y)\n",
    "    elif OP == 4:\n",
    "        X = int(input(\"Enter first number\"))\n",
    "        Y = int(input(\"enter second number\"))\n",
    "        print(X/Y)\n",
    "    elif OP == 5:\n",
    "        X = int(input(\"Enter number\"))\n",
    "        Y = int(input(\"enter power\"))\n",
    "        print(X**Y)\n",
    "    NEW = input(\"Do you want to calculate again (True/False)\")\n",
    "    if NEW == 'False':\n",
    "        break        \n",
    "    else"
   ]
  },
  {
   "cell_type": "markdown",
   "id": "a4660479",
   "metadata": {},
   "source": [
    "# TASK 2\n",
    "A = [a,2,3,g,5,r,e,h,1,h,k,7,I]\n",
    "for i in range(len(A)):\n",
    "     If A(i) = type(int)\n",
    "        print(\"The list contains Numeric value\")\n",
    "        "
   ]
  },
  {
   "cell_type": "markdown",
   "id": "005b2568",
   "metadata": {},
   "source": [
    "# TASK 3\n",
    "A = {[(1:,\"A\")(2:,B)]\n",
    "A = [\"5\"] = \"d\""
   ]
  },
  {
   "cell_type": "markdown",
   "id": "1a389c77",
   "metadata": {},
   "source": [
    "# Task 4 \n",
    "A = {[(key1,9)(key2,6)(key3,4)]\n",
    " sum(A.values())"
   ]
  },
  {
   "cell_type": "markdown",
   "id": "5a2ded4a",
   "metadata": {},
   "source": [
    "# Task5\n",
    "a = [1,2,3,2,1,5,6,5,5,5]\n",
    "\n",
    "import collections\n",
    "print([item for item, count in collections.Counter(a).items() if count > 1])"
   ]
  },
  {
   "cell_type": "markdown",
   "id": "317c1c2e",
   "metadata": {},
   "source": [
    "# #Task6\n",
    "A={[(5:,2)(4:,3),(6:,t)]}\n",
    "if 5 in d:\n",
    "   print(\"5 key is present\")"
   ]
  },
  {
   "cell_type": "code",
   "execution_count": null,
   "id": "c3cb1b3b",
   "metadata": {},
   "outputs": [],
   "source": []
  },
  {
   "cell_type": "code",
   "execution_count": null,
   "id": "169bf392",
   "metadata": {},
   "outputs": [],
   "source": []
  },
  {
   "cell_type": "code",
   "execution_count": null,
   "id": "d7db402f",
   "metadata": {},
   "outputs": [],
   "source": []
  },
  {
   "cell_type": "code",
   "execution_count": null,
   "id": "44bb8ac2",
   "metadata": {},
   "outputs": [],
   "source": []
  },
  {
   "cell_type": "code",
   "execution_count": null,
   "id": "8ab1f0ab",
   "metadata": {},
   "outputs": [],
   "source": []
  },
  {
   "cell_type": "code",
   "execution_count": null,
   "id": "82b04cba",
   "metadata": {},
   "outputs": [],
   "source": []
  },
  {
   "cell_type": "code",
   "execution_count": null,
   "id": "eea5bdff",
   "metadata": {},
   "outputs": [],
   "source": []
  },
  {
   "cell_type": "code",
   "execution_count": null,
   "id": "e10775ba",
   "metadata": {},
   "outputs": [],
   "source": []
  },
  {
   "cell_type": "code",
   "execution_count": null,
   "id": "6e720d32",
   "metadata": {},
   "outputs": [],
   "source": []
  }
 ],
 "metadata": {
  "kernelspec": {
   "display_name": "Python 3",
   "language": "python",
   "name": "python3"
  },
  "language_info": {
   "codemirror_mode": {
    "name": "ipython",
    "version": 3
   },
   "file_extension": ".py",
   "mimetype": "text/x-python",
   "name": "python",
   "nbconvert_exporter": "python",
   "pygments_lexer": "ipython3",
   "version": "3.8.8"
  }
 },
 "nbformat": 4,
 "nbformat_minor": 5
}
