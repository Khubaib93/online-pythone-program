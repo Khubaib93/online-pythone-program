{
 "cells": [
  {
   "cell_type": "code",
   "execution_count": 4,
   "id": "b0c2e983",
   "metadata": {},
   "outputs": [
    {
     "name": "stdout",
     "output_type": "stream",
     "text": [
      "Twinkle, twinkle, little star,\n",
      "          How I wonder what you are\n",
      "                  Up above the world so high,\n",
      "                  Like a diamond in the sky.\n",
      "Twinkle, twinkle, little star,\n",
      "          How I wonder what you are\n"
     ]
    }
   ],
   "source": [
    "print(\"Twinkle, twinkle, little star,\")\n",
    "print(\"          How I wonder what you are\")\n",
    "print(\"                  Up above the world so high,\")\n",
    "print(\"                  Like a diamond in the sky.\")\n",
    "print(\"Twinkle, twinkle, little star,\")\n",
    "print(\"          How I wonder what you are\")"
   ]
  },
  {
   "cell_type": "code",
   "execution_count": 7,
   "id": "0c756162",
   "metadata": {},
   "outputs": [],
   "source": [
    "import time"
   ]
  },
  {
   "cell_type": "code",
   "execution_count": 9,
   "id": "57dbb355",
   "metadata": {},
   "outputs": [
    {
     "data": {
      "text/plain": [
       "1634918489.1993456"
      ]
     },
     "execution_count": 9,
     "metadata": {},
     "output_type": "execute_result"
    }
   ],
   "source": [
    "time.time()"
   ]
  },
  {
   "cell_type": "code",
   "execution_count": 10,
   "id": "99bbc7a7",
   "metadata": {},
   "outputs": [
    {
     "data": {
      "text/plain": [
       "'Fri Oct 22 19:01:29 2021'"
      ]
     },
     "execution_count": 10,
     "metadata": {},
     "output_type": "execute_result"
    }
   ],
   "source": [
    "time.ctime(1634918489.1993456)"
   ]
  },
  {
   "cell_type": "code",
   "execution_count": 37,
   "id": "77946d32",
   "metadata": {},
   "outputs": [
    {
     "name": "stdout",
     "output_type": "stream",
     "text": [
      "Enter the radius of the circle 188\n",
      "Area of the circle for given radius is 221960.32\n"
     ]
    }
   ],
   "source": [
    "A = float(input(\"Enter the radius of the circle \"))\n",
    "π = 3.14\n",
    "Area = 2*π*(A*A)\n",
    "print(\"Area of the circle for given radius is\", Area)"
   ]
  },
  {
   "cell_type": "code",
   "execution_count": 115,
   "id": "9934da88",
   "metadata": {},
   "outputs": [
    {
     "name": "stdout",
     "output_type": "stream",
     "text": [
      "Enter first nameKhubaib\n",
      "Enter last nameMukhtar\n",
      "Mukhtar   Khubaib\n"
     ]
    }
   ],
   "source": [
    "M = str(input(\"Enter first name\"))\n",
    "N = str(input(\"Enter last name\"))\n",
    "print(N,\" \",M)"
   ]
  },
  {
   "cell_type": "code",
   "execution_count": 43,
   "id": "d973e77b",
   "metadata": {},
   "outputs": [
    {
     "name": "stdout",
     "output_type": "stream",
     "text": [
      "2\n",
      "3\n",
      "Sum of given numbers is numbers is 5\n"
     ]
    }
   ],
   "source": [
    "D = int(input())\n",
    "E = int(input())\n",
    "Total = D + E\n",
    "print(\"Sum of given numbers is numbers is\",Total)"
   ]
  },
  {
   "cell_type": "code",
   "execution_count": 63,
   "id": "41fff12c",
   "metadata": {
    "scrolled": true
   },
   "outputs": [
    {
     "name": "stdout",
     "output_type": "stream",
     "text": [
      "Enter student marks for Maths95\n",
      "Enter student marks for Chemistry85\n",
      "Enter student marks for Physics90\n",
      "Enter student marks for Computer Science97\n",
      "Enter student marks for Biology75\n",
      "grade:A\n"
     ]
    }
   ],
   "source": [
    "Q = int(input(\"Enter student marks for Maths\"));\n",
    "R = int(input(\"Enter student marks for Chemistry\"));\n",
    "S = int(input(\"Enter student marks for Physics\"));\n",
    "T = int(input(\"Enter student marks for Computer Science\"));\n",
    "U = int(input(\"Enter student marks for Biology\"));\n",
    "\n",
    "Total = (Q + R + S + T + U)/500 * 100\n",
    "\n",
    "if Total >= 90:\n",
    "   print(\"grade:A*\")\n",
    "elif Total >= 85:\n",
    "   print(\"grade:A\")\n",
    "elif Total >= 75:\n",
    "   print(\"grade:B\")\n",
    "elif Total >= 65:\n",
    "   print(\"grade:C\")\n",
    "elif Total >= 55:\n",
    "   print(\"grade:D\")\n",
    "elif Total >= 45:\n",
    "   print(\"grade:E\")\n",
    "elif Total < 0:\n",
    "   print(\"marks entered are invalid\")\n",
    "else:\n",
    "   print(\"grade:F\")\n"
   ]
  },
  {
   "cell_type": "code",
   "execution_count": 69,
   "id": "5bf20b00",
   "metadata": {},
   "outputs": [
    {
     "name": "stdout",
     "output_type": "stream",
     "text": [
      "Enter a value5\n",
      "value is Odd\n"
     ]
    }
   ],
   "source": [
    "V = int(input(\"Enter a value\"))\n",
    "if V % 2 == 0:\n",
    "   print(\"value is Even\")\n",
    "else:\n",
    "    print(\"value is Odd\")"
   ]
  },
  {
   "cell_type": "code",
   "execution_count": 72,
   "id": "d48896a5",
   "metadata": {},
   "outputs": [
    {
     "name": "stdout",
     "output_type": "stream",
     "text": [
      "8\n"
     ]
    }
   ],
   "source": [
    "X = [1,2,3,4,5,6,7,8]\n",
    "print(len(X))"
   ]
  },
  {
   "cell_type": "code",
   "execution_count": 83,
   "id": "ec58032a",
   "metadata": {},
   "outputs": [
    {
     "name": "stdout",
     "output_type": "stream",
     "text": [
      "36\n"
     ]
    }
   ],
   "source": [
    "X = [1,2,3,4,5,6,7,8]\n",
    "sum= 0\n",
    "for i in range(0, len(X)):\n",
    "   sum = sum + X[i]\n",
    "  \n",
    "print(sum)"
   ]
  },
  {
   "cell_type": "code",
   "execution_count": 107,
   "id": "08a1c57f",
   "metadata": {},
   "outputs": [
    {
     "name": "stdout",
     "output_type": "stream",
     "text": [
      "8\n"
     ]
    }
   ],
   "source": [
    "for j in X[0:6]:\n",
    "    if X[j] > X[j+1]:\n",
    "     print(X[j]);\n",
    "else:   \n",
    "   print(X[-1])"
   ]
  },
  {
   "cell_type": "code",
   "execution_count": 114,
   "id": "15f1623c",
   "metadata": {},
   "outputs": [
    {
     "name": "stdout",
     "output_type": "stream",
     "text": [
      "1\n",
      "1\n",
      "2\n",
      "3\n"
     ]
    }
   ],
   "source": [
    "Y = [1, 1, 2, 3, 5, 8, 13, 21, 34, 55, 89]\n",
    "for k in range(0, len(Y)):\n",
    "    if Y[k] < 5 :\n",
    "     print(Y[k]);\n",
    "    \n"
   ]
  },
  {
   "cell_type": "code",
   "execution_count": null,
   "id": "f2d3fe05",
   "metadata": {},
   "outputs": [],
   "source": []
  }
 ],
 "metadata": {
  "kernelspec": {
   "display_name": "Python 3",
   "language": "python",
   "name": "python3"
  },
  "language_info": {
   "codemirror_mode": {
    "name": "ipython",
    "version": 3
   },
   "file_extension": ".py",
   "mimetype": "text/x-python",
   "name": "python",
   "nbconvert_exporter": "python",
   "pygments_lexer": "ipython3",
   "version": "3.8.8"
  }
 },
 "nbformat": 4,
 "nbformat_minor": 5
}
